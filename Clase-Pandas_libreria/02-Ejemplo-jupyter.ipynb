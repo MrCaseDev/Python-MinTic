{
 "cells": [
  {
   "cell_type": "code",
   "execution_count": 6,
   "metadata": {},
   "outputs": [
    {
     "name": "stdout",
     "output_type": "stream",
     "text": [
      "  Nombre  Edad       País Automovil\n",
      "0   Juan    35     México        No\n",
      "1  Pedro    41     España        Si\n",
      "2  María    28       Perú        Si\n",
      "3  Laura    66  Argentina        No\n"
     ]
    }
   ],
   "source": [
    "import pandas as pd\n",
    "\n",
    "tabla = pd.read_csv(r'C:\\Case\\Python-MinTic\\Archivos_Ejemplo\\TablaEjemplo.csv')\n",
    "\n",
    "print(tabla)"
   ]
  },
  {
   "cell_type": "code",
   "execution_count": 11,
   "metadata": {},
   "outputs": [
    {
     "data": {
      "text/plain": [
       "pandas.core.frame.DataFrame"
      ]
     },
     "execution_count": 11,
     "metadata": {},
     "output_type": "execute_result"
    }
   ],
   "source": [
    "import pandas as pd\n",
    "# Extraer series\n",
    "tabla = pd.read_csv(r'C:\\Case\\Python-MinTic\\Archivos_Ejemplo\\TablaEjemplo.csv')\n",
    "# tabla['Nombre']\n",
    "# tabla['Nombre','Edad']\n",
    "# tabla.Edad\n",
    "\n",
    "type(tabla)"
   ]
  },
  {
   "cell_type": "code",
   "execution_count": 22,
   "metadata": {},
   "outputs": [
    {
     "name": "stdout",
     "output_type": "stream",
     "text": [
      "(465, 7)\n",
      "465\n",
      "7\n",
      "    Reporte Regional de Ventas        Unnamed: 1 Unnamed: 2  \\\n",
      "0                          NaN               NaN        NaN   \n",
      "1                Periodo desde         1/01/2016        NaN   \n",
      "2                Periodo hasta        31/01/2016        NaN   \n",
      "3                          NaN               NaN        NaN   \n",
      "4                        Fecha          Vendedor     Region   \n",
      "..                         ...               ...        ...   \n",
      "460                 31/01/2016        Sarah Bond        Sur   \n",
      "461                 31/01/2016        Dustin Gee       Este   \n",
      "462                 31/01/2016        Dustin Gee       Este   \n",
      "463                 31/01/2016        Dustin Gee      Norte   \n",
      "464                 31/01/2016  Trevor Snodgrass        Sur   \n",
      "\n",
      "            Unnamed: 3   Unnamed: 4 Unnamed: 5 Unnamed: 6  \n",
      "0                  NaN          NaN        NaN        NaN  \n",
      "1                  NaN          NaN        NaN        NaN  \n",
      "2                  NaN          NaN        NaN        NaN  \n",
      "3                  NaN          NaN        NaN        NaN  \n",
      "4             Articulo    Categoria   Unidades   Ganancia  \n",
      "..                 ...          ...        ...        ...  \n",
      "460            Bufanda   Vestimenta          6       16,5  \n",
      "461          Sandalias   Vestimenta         11      115,5  \n",
      "462  Sanguche de Queso  Comestibles          4        6,4  \n",
      "463         Escobillon        Hogar          8        6,8  \n",
      "464          Pepinillo  Comestibles          7        2,1  \n",
      "\n",
      "[465 rows x 7 columns]\n"
     ]
    }
   ],
   "source": [
    "import pandas as pd\n",
    "\n",
    "tabla = pd.read_csv(r'C:\\Case\\Python-MinTic\\Archivos_Ejemplo\\VentasTotales1.csv', delimiter=';', encoding='latin1')\n",
    "# tabla['Nombre']\n",
    "# tabla['Nombre','Edad']\n",
    "# tabla.Edad\n",
    "\n",
    "#type(tabla)\n",
    "\n",
    "print(tabla.shape)\n",
    "print(tabla.shape[0])\n",
    "print(tabla.shape[1])\n",
    "print(tabla)"
   ]
  }
 ],
 "metadata": {
  "kernelspec": {
   "display_name": "Python 3",
   "language": "python",
   "name": "python3"
  },
  "language_info": {
   "codemirror_mode": {
    "name": "ipython",
    "version": 3
   },
   "file_extension": ".py",
   "mimetype": "text/x-python",
   "name": "python",
   "nbconvert_exporter": "python",
   "pygments_lexer": "ipython3",
   "version": "3.12.2"
  }
 },
 "nbformat": 4,
 "nbformat_minor": 2
}
