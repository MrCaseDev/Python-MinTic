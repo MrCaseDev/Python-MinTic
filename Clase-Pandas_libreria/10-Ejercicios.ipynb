{
 "cells": [
  {
   "cell_type": "code",
   "execution_count": null,
   "metadata": {},
   "outputs": [],
   "source": [
    "import pandas as pd\n",
    "# leyendo un excel \n",
    "dataframe = pd.read_excel(r'C:\\Case\\Python-MinTic\\Archivos_Ejemplo\\Listado-de-proveedores-y-contactos.xlsx')\n",
    "    \n",
    "print(dataframe)"
   ]
  },
  {
   "cell_type": "code",
   "execution_count": null,
   "metadata": {},
   "outputs": [],
   "source": [
    "import pandas as pd \n",
    "# leyendo un json\n",
    "dataframe = pd.read_json(r'C:\\Case\\Python-MinTic\\Archivos_Ejemplo\\archivo.json')\n",
    "\n",
    "print(dataframe)"
   ]
  },
  {
   "cell_type": "code",
   "execution_count": null,
   "metadata": {},
   "outputs": [],
   "source": [
    "import pandas as pd\n",
    " \n",
    "dataframe = pd.read_csv(r'C:\\Case\\Python-MinTic\\Archivos_Ejemplo\\dataframe.csv')\n",
    "dataframe\n",
    "dataframe.shape\n",
    "dataframe.shape[0]\n",
    "dataframe.shape[1]\n",
    "\n",
    "dataframe.head()\n",
    "\n",
    "dataframe.head(3)"
   ]
  },
  {
   "cell_type": "code",
   "execution_count": null,
   "metadata": {},
   "outputs": [],
   "source": [
    "import pandas as pd\n",
    " \n",
    "dataframe = pd.read_csv(r'C:\\Case\\Python-MinTic\\Archivos_Ejemplo\\ejemplo.csv')\n",
    "\n",
    "dataframe\n",
    "dataframe.shape\n",
    "dataframe.head(10)\n",
    "dataframe.tail() # ultimos registros default 5 "
   ]
  },
  {
   "cell_type": "code",
   "execution_count": null,
   "metadata": {},
   "outputs": [],
   "source": [
    "import pandas as pd\n",
    " \n",
    "dataframe = pd.read_csv(r'C:\\Case\\Python-MinTic\\Archivos_Ejemplo\\ejemplo.csv')\n",
    "\n",
    "dataframe\n",
    "dataframe.info()"
   ]
  },
  {
   "cell_type": "code",
   "execution_count": null,
   "metadata": {},
   "outputs": [],
   "source": [
    "import pandas as pd\n",
    " \n",
    "dataframe = pd.read_csv(r'C:\\Case\\Python-MinTic\\Archivos_Ejemplo\\dataframe.csv')\n",
    "dataframe\n",
    "dataframe.Edad.value_counts()\n",
    "dataframe.Automovil.value_counts()\n"
   ]
  },
  {
   "cell_type": "code",
   "execution_count": null,
   "metadata": {},
   "outputs": [],
   "source": [
    "import pandas as pd\n",
    "# ordenamiento \n",
    "dataframe = pd.read_csv(r'C:\\Case\\Python-MinTic\\Archivos_Ejemplo\\dataframe.csv')\n",
    "dataframe\n",
    "dataframe.Pais.sort_values()\n",
    "dataframe.sort_values(by=['Nombre','Edad'])"
   ]
  },
  {
   "cell_type": "code",
   "execution_count": null,
   "metadata": {},
   "outputs": [],
   "source": [
    "import pandas as pd\n",
    "# Condiciones booleanas para filtrar la información\n",
    "dataframe = pd.read_csv(r'C:\\Case\\Python-MinTic\\Archivos_Ejemplo\\dataframe.csv')\n",
    "\n",
    "dataframe[dataframe.Pais == 'Peru']\n",
    "\n",
    "dataframe[(dataframe.Pais=='Peru')&(dataframe.Automovil=='Si')]"
   ]
  },
  {
   "cell_type": "code",
   "execution_count": null,
   "metadata": {},
   "outputs": [],
   "source": [
    "import pandas as pd\n",
    "# Trabajar con strings\n",
    "dataframe = pd.read_csv(r'C:\\Case\\Python-MinTic\\Archivos_Ejemplo\\dataframe.csv')\n",
    "\n",
    "dataframe.Pais.str.contains('Peru') # Imprime si cumple o no por cada registro\n",
    "dataframe[dataframe.Pais.str.contains('Peru')] # imprime el registro que cumple\n",
    "\n"
   ]
  },
  {
   "cell_type": "code",
   "execution_count": null,
   "metadata": {},
   "outputs": [],
   "source": [
    "import pandas as pd\n",
    "# cambiar indices o configurar un indice para un dataframe\n",
    "dataframe = pd.read_csv(r'C:\\Case\\Python-MinTic\\Archivos_Ejemplo\\dataframe.csv')\n",
    "\n",
    "dataframe.set_index('Pais') # Esto solo crea una copia del dataframe sobre el que se aplica el metodo\n",
    "dataframe.set_index('Pais', inplace=True)\n",
    "\n",
    "dataframe.reset_index(inplace=True)\n",
    "dataframe\n",
    "\n",
    "dataframe_id_pais = dataframe.set_index('Pais')\n",
    "\n",
    "dataframe_id_pais"
   ]
  },
  {
   "cell_type": "code",
   "execution_count": null,
   "metadata": {},
   "outputs": [],
   "source": [
    "import pandas as pd\n",
    "# Ordenamiento por indice\n",
    "dataframe = pd.read_csv(r'C:\\Case\\Python-MinTic\\Archivos_Ejemplo\\dataframe.csv')\n",
    "\n",
    "pais =  dataframe.set_index('Pais')\n",
    "\n",
    "pais\n",
    "\n",
    "pais.sort_index()\n",
    "\n",
    "pais.sort_index(ascending=False)"
   ]
  },
  {
   "cell_type": "code",
   "execution_count": null,
   "metadata": {},
   "outputs": [],
   "source": [
    "import pandas as pd\n",
    "# Localizacion de etiquetas\n",
    "dataframe = pd.read_csv(r'C:\\Case\\Python-MinTic\\Archivos_Ejemplo\\dataframe.csv')\n",
    "\n",
    "pais =  dataframe.set_index('Pais')\n",
    "\n",
    "pais.loc['Argentina']\n",
    "\n",
    "dataframe.loc[dataframe.Pais == 'Peru']\n",
    "\n",
    "dataframe.iloc[4]\n",
    "\n",
    "dataframe.iloc[2:5]"
   ]
  },
  {
   "cell_type": "code",
   "execution_count": 48,
   "metadata": {},
   "outputs": [
    {
     "data": {
      "text/plain": [
       "[('Argentina',\n",
       "    Nombre  Edad       Pais Automovil\n",
       "  3  Laura    66  Argentina        No\n",
       "  4  Laura    67  Argentina        No),\n",
       " ('Honduras',\n",
       "    Nombre  Edad      Pais Automovil\n",
       "  1  Pedro    41  Honduras        Si),\n",
       " ('Mexico',\n",
       "    Nombre  Edad    Pais Automovil\n",
       "  0   Juan    35  Mexico        No),\n",
       " ('Peru',\n",
       "    Nombre  Edad  Pais Automovil\n",
       "  2  Maria    28  Peru        Si)]"
      ]
     },
     "execution_count": 48,
     "metadata": {},
     "output_type": "execute_result"
    }
   ],
   "source": [
    "import pandas as pd\n",
    "# Group by\n",
    "dataframe = pd.read_csv(r'C:\\Case\\Python-MinTic\\Archivos_Ejemplo\\dataframe.csv')\n",
    "\n",
    "dataframe.groupby('Pais')\n",
    "\n",
    "list(dataframe.groupby('Pais'))"
   ]
  },
  {
   "cell_type": "code",
   "execution_count": 49,
   "metadata": {},
   "outputs": [
    {
     "name": "stdout",
     "output_type": "stream",
     "text": [
      "No\n",
      "  Nombre  Edad       Pais Automovil\n",
      "0   Juan    35     Mexico        No\n",
      "3  Laura    66  Argentina        No\n",
      "4  Laura    67  Argentina        No\n",
      "Si\n",
      "  Nombre  Edad      Pais Automovil\n",
      "1  Pedro    41  Honduras        Si\n",
      "2  Maria    28      Peru        Si\n"
     ]
    }
   ],
   "source": [
    "import pandas as pd\n",
    "# iterando un group by \n",
    "dataframe = pd.read_csv(r'C:\\Case\\Python-MinTic\\Archivos_Ejemplo\\dataframe.csv')\n",
    "\n",
    "dataframe\n",
    "for group_key, group_value in dataframe.groupby('Automovil'):\n",
    "    print(group_key)\n",
    "    print(group_value)"
   ]
  },
  {
   "cell_type": "code",
   "execution_count": 2,
   "metadata": {},
   "outputs": [
    {
     "data": {
      "text/html": [
       "<div>\n",
       "<style scoped>\n",
       "    .dataframe tbody tr th:only-of-type {\n",
       "        vertical-align: middle;\n",
       "    }\n",
       "\n",
       "    .dataframe tbody tr th {\n",
       "        vertical-align: top;\n",
       "    }\n",
       "\n",
       "    .dataframe thead tr th {\n",
       "        text-align: left;\n",
       "    }\n",
       "\n",
       "    .dataframe thead tr:last-of-type th {\n",
       "        text-align: right;\n",
       "    }\n",
       "</style>\n",
       "<table border=\"1\" class=\"dataframe\">\n",
       "  <thead>\n",
       "    <tr>\n",
       "      <th></th>\n",
       "      <th></th>\n",
       "      <th></th>\n",
       "      <th colspan=\"3\" halign=\"left\">Edad</th>\n",
       "    </tr>\n",
       "    <tr>\n",
       "      <th></th>\n",
       "      <th></th>\n",
       "      <th></th>\n",
       "      <th>min</th>\n",
       "      <th>max</th>\n",
       "      <th>count</th>\n",
       "    </tr>\n",
       "    <tr>\n",
       "      <th>Pais</th>\n",
       "      <th>Edad</th>\n",
       "      <th>Nombre</th>\n",
       "      <th></th>\n",
       "      <th></th>\n",
       "      <th></th>\n",
       "    </tr>\n",
       "  </thead>\n",
       "  <tbody>\n",
       "    <tr>\n",
       "      <th rowspan=\"2\" valign=\"top\">Argentina</th>\n",
       "      <th>66</th>\n",
       "      <th>Laura</th>\n",
       "      <td>66</td>\n",
       "      <td>66</td>\n",
       "      <td>1</td>\n",
       "    </tr>\n",
       "    <tr>\n",
       "      <th>67</th>\n",
       "      <th>Laura</th>\n",
       "      <td>67</td>\n",
       "      <td>67</td>\n",
       "      <td>1</td>\n",
       "    </tr>\n",
       "    <tr>\n",
       "      <th>Honduras</th>\n",
       "      <th>41</th>\n",
       "      <th>Pedro</th>\n",
       "      <td>41</td>\n",
       "      <td>41</td>\n",
       "      <td>1</td>\n",
       "    </tr>\n",
       "    <tr>\n",
       "      <th>Mexico</th>\n",
       "      <th>35</th>\n",
       "      <th>Juan</th>\n",
       "      <td>35</td>\n",
       "      <td>35</td>\n",
       "      <td>1</td>\n",
       "    </tr>\n",
       "    <tr>\n",
       "      <th>Peru</th>\n",
       "      <th>28</th>\n",
       "      <th>Maria</th>\n",
       "      <td>28</td>\n",
       "      <td>28</td>\n",
       "      <td>1</td>\n",
       "    </tr>\n",
       "  </tbody>\n",
       "</table>\n",
       "</div>"
      ],
      "text/plain": [
       "                      Edad          \n",
       "                       min max count\n",
       "Pais      Edad Nombre               \n",
       "Argentina 66   Laura    66  66     1\n",
       "          67   Laura    67  67     1\n",
       "Honduras  41   Pedro    41  41     1\n",
       "Mexico    35   Juan     35  35     1\n",
       "Peru      28   Maria    28  28     1"
      ]
     },
     "execution_count": 2,
     "metadata": {},
     "output_type": "execute_result"
    }
   ],
   "source": [
    "import pandas as pd\n",
    "# \n",
    "dataframe = pd.read_csv(r'C:\\Case\\Python-MinTic\\Archivos_Ejemplo\\dataframe.csv')\n",
    "\n",
    "dataframe.groupby(['Pais', 'Edad', 'Nombre']).agg({'Edad':['min','max', 'count']})\n",
    "\n",
    "# a partir del agrupamiento se puede definir algo mas como minimo, maximo, contar"
   ]
  },
  {
   "cell_type": "code",
   "execution_count": 1,
   "metadata": {},
   "outputs": [
    {
     "data": {
      "text/plain": [
       "Pais       Automovil\n",
       "Argentina  No           2\n",
       "Honduras   Si           1\n",
       "dtype: int64"
      ]
     },
     "execution_count": 1,
     "metadata": {},
     "output_type": "execute_result"
    }
   ],
   "source": [
    "import pandas as pd\n",
    "# iterando un group by \n",
    "dataframe = pd.read_csv(r'C:\\Case\\Python-MinTic\\Archivos_Ejemplo\\dataframe.csv')\n",
    "\n",
    "dataframe\n",
    "\n",
    "\n",
    "filtrar = dataframe[(dataframe.Pais=='Honduras') |(dataframe.Pais=='Argentina') & (dataframe.Automovil == 'No')]\n",
    "\n",
    "agrupamos = filtrar.groupby(['Pais', 'Automovil']).size()\n",
    "\n",
    "agrupamos"
   ]
  }
 ],
 "metadata": {
  "kernelspec": {
   "display_name": "Python 3",
   "language": "python",
   "name": "python3"
  },
  "language_info": {
   "codemirror_mode": {
    "name": "ipython",
    "version": 3
   },
   "file_extension": ".py",
   "mimetype": "text/x-python",
   "name": "python",
   "nbconvert_exporter": "python",
   "pygments_lexer": "ipython3",
   "version": "3.12.2"
  }
 },
 "nbformat": 4,
 "nbformat_minor": 2
}
